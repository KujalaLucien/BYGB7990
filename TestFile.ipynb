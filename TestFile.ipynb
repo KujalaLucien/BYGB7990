{
 "cells": [
  {
   "cell_type": "code",
   "execution_count": 1,
   "metadata": {},
   "outputs": [],
   "source": [
    "import pandas as pd"
   ]
  },
  {
   "cell_type": "code",
   "execution_count": 2,
   "metadata": {},
   "outputs": [],
   "source": [
    "import sqlite3 as sql"
   ]
  },
  {
   "cell_type": "code",
   "execution_count": 20,
   "metadata": {},
   "outputs": [],
   "source": [
    "# Part A"
   ]
  },
  {
   "cell_type": "code",
   "execution_count": 3,
   "metadata": {},
   "outputs": [],
   "source": [
    "connection = sql.connect(\"dj.db\")"
   ]
  },
  {
   "cell_type": "code",
   "execution_count": 4,
   "metadata": {},
   "outputs": [],
   "source": [
    "cursor = connection.cursor()"
   ]
  },
  {
   "cell_type": "code",
   "execution_count": 5,
   "metadata": {},
   "outputs": [
    {
     "data": {
      "text/plain": [
       "<sqlite3.Cursor at 0x1f6f0396ea0>"
      ]
     },
     "execution_count": 5,
     "metadata": {},
     "output_type": "execute_result"
    }
   ],
   "source": [
    "cursor.execute(\"SELECT id, ticker, name FROM tickers\")"
   ]
  },
  {
   "cell_type": "code",
   "execution_count": 7,
   "metadata": {},
   "outputs": [],
   "source": [
    "rows = cursor.fetchall()"
   ]
  },
  {
   "cell_type": "code",
   "execution_count": 8,
   "metadata": {},
   "outputs": [
    {
     "name": "stdout",
     "output_type": "stream",
     "text": [
      "[(1, 'M', \"Macy's Inc\"), (2, 'AXP', 'American Express Company'), (3, 'AAPL', 'Apple Inc.'), (4, 'BA', 'The Boeing Company'), (5, 'CAT', 'Caterpillar Inc.'), (6, 'CVX', 'Chevron Corporation'), (7, 'CSCO', 'Cisco Systems Inc.'), (8, 'KO', 'Coca-Cola Company (The)'), (9, 'DIS', 'The Walt Disney Company'), (10, 'DOW', 'Dow Inc.'), (11, 'XOM', 'Exxon Mobil Corporation'), (12, 'GS', 'Goldman Sachs Group Inc. (The)'), (13, 'HD', 'Home Depot Inc. (The)'), (14, 'IBM', 'International Business Machines Corporation'), (15, 'INTC', 'Intel Corporation'), (16, 'JNJ', 'Johnson & Johnson'), (17, 'JPM', 'JP Morgan Chase & Co.'), (18, 'MCD', \"McDonald's Corporation\"), (19, 'MRK', 'Merck & Company Inc. (new)'), (20, 'MSFT', 'Microsoft Corporation'), (21, 'NKE', 'Nike Inc.'), (22, 'PFE', 'Pfizer Inc.'), (23, 'PG', 'Procter & Gamble Company (The)'), (24, 'TRV', 'The Travelers Companies Inc.'), (25, 'UTX', 'United Technologies Corporation'), (26, 'UNH', 'UnitedHealth Group Incorporated (DE)'), (27, 'VZ', 'Verizon Communications Inc.'), (28, 'V', 'Visa Inc.'), (29, 'WMT', 'Walmart Inc.'), (30, 'WBA', 'Walgreens Boots Alliance Inc.')]\n"
     ]
    }
   ],
   "source": [
    "print(rows)"
   ]
  },
  {
   "cell_type": "code",
   "execution_count": 18,
   "metadata": {},
   "outputs": [],
   "source": [
    "df = pd.DataFrame(rows, columns = ['id','ticker','name'])"
   ]
  },
  {
   "cell_type": "code",
   "execution_count": 19,
   "metadata": {},
   "outputs": [
    {
     "data": {
      "text/html": [
       "<div>\n",
       "<style scoped>\n",
       "    .dataframe tbody tr th:only-of-type {\n",
       "        vertical-align: middle;\n",
       "    }\n",
       "\n",
       "    .dataframe tbody tr th {\n",
       "        vertical-align: top;\n",
       "    }\n",
       "\n",
       "    .dataframe thead th {\n",
       "        text-align: right;\n",
       "    }\n",
       "</style>\n",
       "<table border=\"1\" class=\"dataframe\">\n",
       "  <thead>\n",
       "    <tr style=\"text-align: right;\">\n",
       "      <th></th>\n",
       "      <th>id</th>\n",
       "      <th>name</th>\n",
       "    </tr>\n",
       "    <tr>\n",
       "      <th>ticker</th>\n",
       "      <th></th>\n",
       "      <th></th>\n",
       "    </tr>\n",
       "  </thead>\n",
       "  <tbody>\n",
       "    <tr>\n",
       "      <td>M</td>\n",
       "      <td>1</td>\n",
       "      <td>Macy's Inc</td>\n",
       "    </tr>\n",
       "    <tr>\n",
       "      <td>AXP</td>\n",
       "      <td>2</td>\n",
       "      <td>American Express Company</td>\n",
       "    </tr>\n",
       "    <tr>\n",
       "      <td>AAPL</td>\n",
       "      <td>3</td>\n",
       "      <td>Apple Inc.</td>\n",
       "    </tr>\n",
       "    <tr>\n",
       "      <td>BA</td>\n",
       "      <td>4</td>\n",
       "      <td>The Boeing Company</td>\n",
       "    </tr>\n",
       "    <tr>\n",
       "      <td>CAT</td>\n",
       "      <td>5</td>\n",
       "      <td>Caterpillar Inc.</td>\n",
       "    </tr>\n",
       "    <tr>\n",
       "      <td>CVX</td>\n",
       "      <td>6</td>\n",
       "      <td>Chevron Corporation</td>\n",
       "    </tr>\n",
       "    <tr>\n",
       "      <td>CSCO</td>\n",
       "      <td>7</td>\n",
       "      <td>Cisco Systems Inc.</td>\n",
       "    </tr>\n",
       "    <tr>\n",
       "      <td>KO</td>\n",
       "      <td>8</td>\n",
       "      <td>Coca-Cola Company (The)</td>\n",
       "    </tr>\n",
       "    <tr>\n",
       "      <td>DIS</td>\n",
       "      <td>9</td>\n",
       "      <td>The Walt Disney Company</td>\n",
       "    </tr>\n",
       "    <tr>\n",
       "      <td>DOW</td>\n",
       "      <td>10</td>\n",
       "      <td>Dow Inc.</td>\n",
       "    </tr>\n",
       "    <tr>\n",
       "      <td>XOM</td>\n",
       "      <td>11</td>\n",
       "      <td>Exxon Mobil Corporation</td>\n",
       "    </tr>\n",
       "    <tr>\n",
       "      <td>GS</td>\n",
       "      <td>12</td>\n",
       "      <td>Goldman Sachs Group Inc. (The)</td>\n",
       "    </tr>\n",
       "    <tr>\n",
       "      <td>HD</td>\n",
       "      <td>13</td>\n",
       "      <td>Home Depot Inc. (The)</td>\n",
       "    </tr>\n",
       "    <tr>\n",
       "      <td>IBM</td>\n",
       "      <td>14</td>\n",
       "      <td>International Business Machines Corporation</td>\n",
       "    </tr>\n",
       "    <tr>\n",
       "      <td>INTC</td>\n",
       "      <td>15</td>\n",
       "      <td>Intel Corporation</td>\n",
       "    </tr>\n",
       "    <tr>\n",
       "      <td>JNJ</td>\n",
       "      <td>16</td>\n",
       "      <td>Johnson &amp; Johnson</td>\n",
       "    </tr>\n",
       "    <tr>\n",
       "      <td>JPM</td>\n",
       "      <td>17</td>\n",
       "      <td>JP Morgan Chase &amp; Co.</td>\n",
       "    </tr>\n",
       "    <tr>\n",
       "      <td>MCD</td>\n",
       "      <td>18</td>\n",
       "      <td>McDonald's Corporation</td>\n",
       "    </tr>\n",
       "    <tr>\n",
       "      <td>MRK</td>\n",
       "      <td>19</td>\n",
       "      <td>Merck &amp; Company Inc. (new)</td>\n",
       "    </tr>\n",
       "    <tr>\n",
       "      <td>MSFT</td>\n",
       "      <td>20</td>\n",
       "      <td>Microsoft Corporation</td>\n",
       "    </tr>\n",
       "    <tr>\n",
       "      <td>NKE</td>\n",
       "      <td>21</td>\n",
       "      <td>Nike Inc.</td>\n",
       "    </tr>\n",
       "    <tr>\n",
       "      <td>PFE</td>\n",
       "      <td>22</td>\n",
       "      <td>Pfizer Inc.</td>\n",
       "    </tr>\n",
       "    <tr>\n",
       "      <td>PG</td>\n",
       "      <td>23</td>\n",
       "      <td>Procter &amp; Gamble Company (The)</td>\n",
       "    </tr>\n",
       "    <tr>\n",
       "      <td>TRV</td>\n",
       "      <td>24</td>\n",
       "      <td>The Travelers Companies Inc.</td>\n",
       "    </tr>\n",
       "    <tr>\n",
       "      <td>UTX</td>\n",
       "      <td>25</td>\n",
       "      <td>United Technologies Corporation</td>\n",
       "    </tr>\n",
       "    <tr>\n",
       "      <td>UNH</td>\n",
       "      <td>26</td>\n",
       "      <td>UnitedHealth Group Incorporated (DE)</td>\n",
       "    </tr>\n",
       "    <tr>\n",
       "      <td>VZ</td>\n",
       "      <td>27</td>\n",
       "      <td>Verizon Communications Inc.</td>\n",
       "    </tr>\n",
       "    <tr>\n",
       "      <td>V</td>\n",
       "      <td>28</td>\n",
       "      <td>Visa Inc.</td>\n",
       "    </tr>\n",
       "    <tr>\n",
       "      <td>WMT</td>\n",
       "      <td>29</td>\n",
       "      <td>Walmart Inc.</td>\n",
       "    </tr>\n",
       "    <tr>\n",
       "      <td>WBA</td>\n",
       "      <td>30</td>\n",
       "      <td>Walgreens Boots Alliance Inc.</td>\n",
       "    </tr>\n",
       "  </tbody>\n",
       "</table>\n",
       "</div>"
      ],
      "text/plain": [
       "        id                                         name\n",
       "ticker                                                 \n",
       "M        1                                   Macy's Inc\n",
       "AXP      2                     American Express Company\n",
       "AAPL     3                                   Apple Inc.\n",
       "BA       4                           The Boeing Company\n",
       "CAT      5                             Caterpillar Inc.\n",
       "CVX      6                          Chevron Corporation\n",
       "CSCO     7                           Cisco Systems Inc.\n",
       "KO       8                      Coca-Cola Company (The)\n",
       "DIS      9                      The Walt Disney Company\n",
       "DOW     10                                     Dow Inc.\n",
       "XOM     11                      Exxon Mobil Corporation\n",
       "GS      12               Goldman Sachs Group Inc. (The)\n",
       "HD      13                        Home Depot Inc. (The)\n",
       "IBM     14  International Business Machines Corporation\n",
       "INTC    15                            Intel Corporation\n",
       "JNJ     16                            Johnson & Johnson\n",
       "JPM     17                        JP Morgan Chase & Co.\n",
       "MCD     18                       McDonald's Corporation\n",
       "MRK     19                   Merck & Company Inc. (new)\n",
       "MSFT    20                        Microsoft Corporation\n",
       "NKE     21                                    Nike Inc.\n",
       "PFE     22                                  Pfizer Inc.\n",
       "PG      23               Procter & Gamble Company (The)\n",
       "TRV     24                 The Travelers Companies Inc.\n",
       "UTX     25              United Technologies Corporation\n",
       "UNH     26         UnitedHealth Group Incorporated (DE)\n",
       "VZ      27                  Verizon Communications Inc.\n",
       "V       28                                    Visa Inc.\n",
       "WMT     29                                 Walmart Inc.\n",
       "WBA     30                Walgreens Boots Alliance Inc."
      ]
     },
     "execution_count": 19,
     "metadata": {},
     "output_type": "execute_result"
    }
   ],
   "source": [
    "df.set_index(\"ticker\")"
   ]
  },
  {
   "cell_type": "code",
   "execution_count": 45,
   "metadata": {},
   "outputs": [],
   "source": [
    "# Part B"
   ]
  },
  {
   "cell_type": "code",
   "execution_count": 50,
   "metadata": {},
   "outputs": [
    {
     "data": {
      "text/plain": [
       "<sqlite3.Cursor at 0x1f6f0396ea0>"
      ]
     },
     "execution_count": 50,
     "metadata": {},
     "output_type": "execute_result"
    }
   ],
   "source": [
    "cursor.execute(\"SELECT min(date) as first, max(date) as last FROM daily_measures\")"
   ]
  },
  {
   "cell_type": "code",
   "execution_count": 51,
   "metadata": {},
   "outputs": [],
   "source": [
    "rows = cursor.fetchone()"
   ]
  },
  {
   "cell_type": "code",
   "execution_count": 52,
   "metadata": {},
   "outputs": [
    {
     "name": "stdout",
     "output_type": "stream",
     "text": [
      "('2017-01-03', '2017-12-29')\n"
     ]
    }
   ],
   "source": [
    "print(rows)"
   ]
  },
  {
   "cell_type": "code",
   "execution_count": 23,
   "metadata": {},
   "outputs": [],
   "source": [
    "# Part C"
   ]
  },
  {
   "cell_type": "code",
   "execution_count": 69,
   "metadata": {},
   "outputs": [
    {
     "data": {
      "text/plain": [
       "<sqlite3.Cursor at 0x1f6f0396ea0>"
      ]
     },
     "execution_count": 69,
     "metadata": {},
     "output_type": "execute_result"
    }
   ],
   "source": [
    "cursor.execute(\"SELECT date, closing FROM daily_measures WHERE ticker_id=3 ORDER BY date\")"
   ]
  },
  {
   "cell_type": "code",
   "execution_count": 70,
   "metadata": {},
   "outputs": [],
   "source": [
    "rows = cursor.fetchall()"
   ]
  },
  {
   "cell_type": "code",
   "execution_count": 87,
   "metadata": {},
   "outputs": [
    {
     "name": "stdout",
     "output_type": "stream",
     "text": [
      "[('2017-01-03', 114.715378), ('2017-01-04', 114.586983), ('2017-01-05', 115.169696), ('2017-01-06', 116.453639), ('2017-01-09', 117.5203), ('2017-01-10', 117.638817), ('2017-01-11', 118.270913), ('2017-01-12', 117.777088), ('2017-01-13', 117.569682), ('2017-01-17', 118.517825), ('2017-01-18', 118.507948), ('2017-01-19', 118.300542), ('2017-01-20', 118.517825), ('2017-01-23', 118.596837), ('2017-01-24', 118.488195), ('2017-01-25', 120.374604), ('2017-01-26', 120.433863), ('2017-01-27', 120.443739), ('2017-01-30', 120.127692), ('2017-01-31', 119.85115), ('2017-02-01', 127.159749), ('2017-02-02', 126.942467), ('2017-02-03', 127.485673), ('2017-02-06', 128.680728), ('2017-02-07', 129.905412), ('2017-02-08', 130.409113), ('2017-02-09', 131.347379), ('2017-02-10', 131.049809), ('2017-02-13', 132.210332), ('2017-02-14', 133.926319), ('2017-02-15', 134.41235), ('2017-02-16', 134.248686), ('2017-02-17', 134.620649), ('2017-02-21', 135.592711), ('2017-02-22', 135.99939), ('2017-02-23', 135.424088), ('2017-02-24', 135.553035), ('2017-02-27', 135.820848), ('2017-02-28', 135.880362), ('2017-03-01', 138.657681), ('2017-03-02', 137.834404), ('2017-03-03', 138.647762), ('2017-03-06', 138.211326), ('2017-03-07', 138.389868), ('2017-03-08', 137.87408), ('2017-03-09', 137.556672), ('2017-03-10', 138.012946), ('2017-03-13', 138.07246), ('2017-03-14', 137.864161), ('2017-03-15', 139.322254), ('2017-03-16', 139.550391), ('2017-03-17', 138.856061), ('2017-03-20', 140.314154), ('2017-03-21', 138.707276), ('2017-03-22', 140.274478), ('2017-03-23', 139.778528), ('2017-03-24', 139.500796), ('2017-03-27', 139.738852), ('2017-03-28', 142.6352), ('2017-03-29', 142.952608), ('2017-03-30', 142.764147), ('2017-03-31', 142.496334), ('2017-04-03', 142.53601), ('2017-04-04', 143.597342), ('2017-04-05', 142.853418), ('2017-04-06', 142.496334), ('2017-04-07', 142.178926), ('2017-04-10', 142.010303), ('2017-04-11', 140.482777), ('2017-04-12', 140.6514), ('2017-04-13', 139.907475), ('2017-04-17', 140.681157), ('2017-04-18', 140.05626), ('2017-04-19', 139.540472), ('2017-04-20', 141.286216), ('2017-04-21', 141.117593), ('2017-04-24', 142.476496), ('2017-04-25', 143.369205), ('2017-04-26', 142.487208), ('2017-04-27', 142.625281), ('2017-04-28', 142.486415), ('2017-05-01', 145.412519), ('2017-05-02', 146.315148), ('2017-05-03', 145.868793), ('2017-05-04', 145.343086), ('2017-05-05', 147.753403), ('2017-05-08', 151.760678), ('2017-05-09', 152.712902), ('2017-05-10', 152.018572), ('2017-05-11', 153.32788), ('2017-05-12', 155.469192), ('2017-05-15', 155.070808), ('2017-05-16', 154.841738), ('2017-05-17', 149.642832), ('2017-05-18', 151.923578), ('2017-05-19', 152.341881), ('2017-05-22', 153.367718), ('2017-05-23', 153.178486), ('2017-05-24', 152.720345), ('2017-05-25', 153.248203), ('2017-05-26', 152.989254), ('2017-05-30', 153.049012), ('2017-05-31', 152.142689), ('2017-06-01', 152.560992), ('2017-06-02', 154.821818), ('2017-06-05', 153.307961), ('2017-06-06', 153.82586), ('2017-06-07', 154.742142), ('2017-06-08', 154.363677), ('2017-06-09', 148.377964), ('2017-06-12', 144.732754), ('2017-06-13', 145.997622), ('2017-06-14', 144.573401), ('2017-06-15', 143.706917), ('2017-06-16', 141.69508), ('2017-06-19', 145.748632), ('2017-06-20', 144.424007), ('2017-06-21', 145.280532), ('2017-06-22', 145.041502), ('2017-06-23', 145.758592), ('2017-06-26', 145.230734), ('2017-06-27', 143.159139), ('2017-06-28', 145.240693), ('2017-06-29', 143.099382), ('2017-06-30', 143.438008), ('2017-07-03', 142.920109), ('2017-07-05', 143.507725), ('2017-07-06', 142.153221), ('2017-07-07', 143.597361), ('2017-07-10', 144.473805), ('2017-07-11', 144.941906), ('2017-07-12', 145.151057), ('2017-07-13', 147.172854), ('2017-07-14', 148.437722), ('2017-07-17', 148.95562), ('2017-07-18', 149.473519), ('2017-07-19', 150.40972), ('2017-07-20', 149.732468), ('2017-07-21', 149.662751), ('2017-07-24', 151.475396), ('2017-07-25', 152.12277), ('2017-07-26', 152.83986), ('2017-07-27', 149.951579), ('2017-07-28', 148.895863), ('2017-07-31', 148.248489), ('2017-08-01', 149.44364), ('2017-08-02', 156.504989), ('2017-08-03', 154.941334), ('2017-08-04', 155.75802), ('2017-08-08', 159.433108), ('2017-08-09', 160.409148), ('2017-08-10', 155.27), ('2017-08-11', 157.48), ('2017-08-14', 159.85), ('2017-08-15', 161.6), ('2017-08-16', 160.95), ('2017-08-17', 157.87), ('2017-08-18', 157.5), ('2017-08-21', 157.21), ('2017-08-22', 159.78), ('2017-08-23', 159.98), ('2017-08-24', 159.27), ('2017-08-25', 159.86), ('2017-08-28', 161.47), ('2017-08-29', 162.91), ('2017-08-30', 163.35), ('2017-08-31', 164), ('2017-09-01', 164.05), ('2017-09-05', 162.08), ('2017-09-06', 161.91), ('2017-09-07', 161.26), ('2017-09-08', 158.63), ('2017-09-11', 161.5), ('2017-09-12', 160.82), ('2017-09-13', 159.65), ('2017-09-14', 158.28), ('2017-09-15', 159.88), ('2017-09-18', 158.67), ('2017-09-19', 158.73), ('2017-09-20', 156.07), ('2017-09-21', 153.39), ('2017-09-22', 151.89), ('2017-09-25', 150.55), ('2017-09-26', 153.14), ('2017-09-27', 154.23), ('2017-09-28', 153.28), ('2017-09-29', 154.12), ('2017-10-02', 153.81), ('2017-10-03', 154.48), ('2017-10-04', 153.4508), ('2017-10-05', 155.39), ('2017-10-06', 155.3), ('2017-10-09', 155.84), ('2017-10-10', 155.9), ('2017-10-11', 156.55), ('2017-10-12', 156), ('2017-10-13', 156.99), ('2017-10-16', 159.88), ('2017-10-17', 160.47), ('2017-10-18', 159.76), ('2017-10-19', 155.98), ('2017-10-20', 156.16), ('2017-10-23', 156.17), ('2017-10-24', 157.1), ('2017-10-25', 156.405), ('2017-10-26', 157.41), ('2017-10-27', 163.05), ('2017-10-30', 166.72), ('2017-10-31', 169.04), ('2017-11-01', 166.89), ('2017-11-02', 168.11), ('2017-11-03', 172.5), ('2017-11-06', 174.25), ('2017-11-07', 174.81), ('2017-11-09', 175.88), ('2017-11-10', 174.67), ('2017-11-13', 173.97), ('2017-11-14', 171.34), ('2017-11-15', 169.08), ('2017-11-16', 171.1), ('2017-11-17', 170.15), ('2017-11-20', 169.98), ('2017-11-21', 173.14), ('2017-11-22', 174.96), ('2017-11-24', 174.97), ('2017-11-27', 174.09), ('2017-11-28', 173.07), ('2017-11-29', 169.48), ('2017-11-30', 171.85), ('2017-12-01', 171.05), ('2017-12-04', 169.8), ('2017-12-05', 169.64), ('2017-12-06', 169.01), ('2017-12-07', 169.452), ('2017-12-08', 169.37), ('2017-12-11', 172.67), ('2017-12-12', 171.7), ('2017-12-13', 172.27), ('2017-12-14', 172.22), ('2017-12-15', 173.87), ('2017-12-18', 176.42), ('2017-12-19', 174.54), ('2017-12-20', 174.35), ('2017-12-21', 175.01), ('2017-12-22', 175.01), ('2017-12-26', 170.57), ('2017-12-27', 170.6), ('2017-12-28', 171.08), ('2017-12-29', 169.23)]\n"
     ]
    }
   ],
   "source": [
    "print(rows)"
   ]
  },
  {
   "cell_type": "code",
   "execution_count": 89,
   "metadata": {},
   "outputs": [
    {
     "name": "stdout",
     "output_type": "stream",
     "text": [
      "2017-12-18 176.42\n"
     ]
    }
   ],
   "source": [
    "price = 0\n",
    "for i in rows:\n",
    "    if i[1] > price:\n",
    "        price = i[1]\n",
    "        date=i[0]\n",
    "print(date, price)"
   ]
  },
  {
   "cell_type": "code",
   "execution_count": 91,
   "metadata": {},
   "outputs": [],
   "source": [
    "# Part D"
   ]
  },
  {
   "cell_type": "code",
   "execution_count": 94,
   "metadata": {},
   "outputs": [
    {
     "data": {
      "text/plain": [
       "<sqlite3.Cursor at 0x1f6f0396ea0>"
      ]
     },
     "execution_count": 94,
     "metadata": {},
     "output_type": "execute_result"
    }
   ],
   "source": [
    "cursor.execute(\"SELECT date, high, low FROM daily_measures WHERE ticker_id=3 ORDER BY date\")"
   ]
  },
  {
   "cell_type": "code",
   "execution_count": 95,
   "metadata": {},
   "outputs": [],
   "source": [
    "rows = cursor.fetchall()"
   ]
  },
  {
   "cell_type": "code",
   "execution_count": 107,
   "metadata": {},
   "outputs": [
    {
     "name": "stdout",
     "output_type": "stream",
     "text": [
      "2017-06-09, 0.0628\n"
     ]
    }
   ],
   "source": [
    "percn = 0\n",
    "for i in rows:\n",
    "    if (i[1]/i[2]) > percn:\n",
    "        percn = i[1]/i[2]\n",
    "        date=i[0]\n",
    "print(f'{date}, {(percn-1):.4f}')"
   ]
  },
  {
   "cell_type": "code",
   "execution_count": null,
   "metadata": {},
   "outputs": [],
   "source": []
  }
 ],
 "metadata": {
  "kernelspec": {
   "display_name": "Python 3",
   "language": "python",
   "name": "python3"
  },
  "language_info": {
   "codemirror_mode": {
    "name": "ipython",
    "version": 3
   },
   "file_extension": ".py",
   "mimetype": "text/x-python",
   "name": "python",
   "nbconvert_exporter": "python",
   "pygments_lexer": "ipython3",
   "version": "3.7.4"
  }
 },
 "nbformat": 4,
 "nbformat_minor": 2
}
